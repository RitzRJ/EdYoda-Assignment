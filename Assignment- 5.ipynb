{
 "cells": [
  {
   "cell_type": "code",
   "execution_count": 18,
   "id": "28753643",
   "metadata": {},
   "outputs": [
    {
     "ename": "SyntaxError",
     "evalue": "invalid syntax. Perhaps you forgot a comma? (3295934187.py, line 1)",
     "output_type": "error",
     "traceback": [
      "\u001b[1;36m  Input \u001b[1;32mIn [18]\u001b[1;36m\u001b[0m\n\u001b[1;33m    (Q.1)Write a Python class to implement pow(x, n)\u001b[0m\n\u001b[1;37m     ^\u001b[0m\n\u001b[1;31mSyntaxError\u001b[0m\u001b[1;31m:\u001b[0m invalid syntax. Perhaps you forgot a comma?\n"
     ]
    }
   ],
   "source": [
    "(Q.1)Write a Python class to implement pow(x, n)\n",
    "\n",
    "\n",
    "\n",
    "Explanation:\n",
    "\n",
    "Use should be able to find the nth power of the x.(i.e x*x*x*x...n times)\n",
    "\n",
    "You must implement it using Class\n",
    "\n",
    "\n",
    "\n",
    "Sample Input:\n",
    "\n",
    "x: 10\n",
    "\n",
    "n: 2\n",
    "\n",
    "\n",
    "\n",
    "Sample Output:\n",
    "\n",
    "100"
   ]
  },
  {
   "cell_type": "code",
   "execution_count": 17,
   "id": "3a05ce53",
   "metadata": {},
   "outputs": [
    {
     "name": "stdout",
     "output_type": "stream",
     "text": [
      "Base value: 10\n",
      "Power value: 2\n",
      "sample Input:\n",
      "x: 10 \n",
      "n: 2 \n",
      "Sample Output:\n",
      " 100\n"
     ]
    }
   ],
   "source": [
    "class py_solution:\n",
    "\n",
    "    def pow(self, x, n):\n",
    "\n",
    "        if x==0 or x==1 or n==1:\n",
    "\n",
    "            return x\n",
    "\n",
    "        if x==-1:\n",
    "\n",
    "            if n%2 ==0:\n",
    "\n",
    "                return 1\n",
    "\n",
    "            else:\n",
    "\n",
    "                return -1\n",
    "\n",
    "        if n==0:\n",
    "\n",
    "            return 1\n",
    "\n",
    "        if n<0:\n",
    "            return 1/self.pow(x,-n)\n",
    "\n",
    "        val = self.pow(x,n//2)\n",
    "\n",
    "        if n%2 ==0:\n",
    "\n",
    "            return val*val\n",
    "\n",
    "        return val*val*x\n",
    "\n",
    "x=int(input(\"Base value: \"))\n",
    "\n",
    "n=int(input(\"Power value: \"))\n",
    "\n",
    "p=pow(x,n)\n",
    "\n",
    "print(\"sample Input:\\nx:\",x,\"\\nn:\",n,\"\\nSample Output:\\n\",p)"
   ]
  },
  {
   "cell_type": "code",
   "execution_count": null,
   "id": "883aac72",
   "metadata": {},
   "outputs": [],
   "source": []
  }
 ],
 "metadata": {
  "kernelspec": {
   "display_name": "Python 3 (ipykernel)",
   "language": "python",
   "name": "python3"
  },
  "language_info": {
   "codemirror_mode": {
    "name": "ipython",
    "version": 3
   },
   "file_extension": ".py",
   "mimetype": "text/x-python",
   "name": "python",
   "nbconvert_exporter": "python",
   "pygments_lexer": "ipython3",
   "version": "3.10.2"
  }
 },
 "nbformat": 4,
 "nbformat_minor": 5
}
