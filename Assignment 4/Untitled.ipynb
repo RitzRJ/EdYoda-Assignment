{
 "cells": [
  {
   "cell_type": "code",
   "execution_count": null,
   "id": "f50c5f83",
   "metadata": {},
   "outputs": [],
   "source": [
    "(Q.1)Write a Python program to create a lambda function that adds 25 to a \n",
    "given number passed in as an argument.\n",
    "\n",
    "sample input: 10\n",
    "\n",
    "sample output: 35"
   ]
  },
  {
   "cell_type": "code",
   "execution_count": 2,
   "id": "c3e2b308",
   "metadata": {},
   "outputs": [
    {
     "name": "stdout",
     "output_type": "stream",
     "text": [
      "output: 35\n"
     ]
    }
   ],
   "source": [
    "r = lambda a: a+25\n",
    "print(\"output:\",r(10))"
   ]
  },
  {
   "cell_type": "code",
   "execution_count": null,
   "id": "e5311df3",
   "metadata": {},
   "outputs": [],
   "source": [
    "(Q.2)Write a Python program to triple all numbers of a given list\n",
    "of integers. Use Python map.\n",
    "\n",
    "\n",
    "\n",
    "sample list: [1, 2, 3, 4, 5, 6, 7]\n",
    "\n",
    "\n",
    "\n",
    "Triple of list numbers:\n",
    "\n",
    "[3, 6, 9, 12, 15, 18, 21]"
   ]
  },
  {
   "cell_type": "code",
   "execution_count": 4,
   "id": "efe891a1",
   "metadata": {},
   "outputs": [
    {
     "name": "stdout",
     "output_type": "stream",
     "text": [
      "input list:  [1, 2, 3, 4, 5, 6, 7]\n",
      "\n",
      "Triple of input list:\n",
      "[3, 6, 9, 12, 15, 18, 21]\n"
     ]
    }
   ],
   "source": [
    "l = [1, 2, 3, 4, 5, 6, 7] \n",
    "print(\"input list: \", l)\n",
    "result = map(lambda x: x + x + x, l) \n",
    "print(\"\\nTriple of input list:\")\n",
    "print(list(result))"
   ]
  },
  {
   "cell_type": "code",
   "execution_count": null,
   "id": "2fa01c06",
   "metadata": {},
   "outputs": [],
   "source": [
    "(Q.3)Write a Python program to square the elements of a list \n",
    "using map() function.\n",
    "\n",
    "\n",
    "\n",
    "Sample List: [4, 5, 2, 9]\n",
    "\n",
    "Square the elements of the list:\n",
    "\n",
    "[16, 25, 4, 81]"
   ]
  },
  {
   "cell_type": "code",
   "execution_count": 13,
   "id": "b254bf9e",
   "metadata": {},
   "outputs": [
    {
     "name": "stdout",
     "output_type": "stream",
     "text": [
      "Original List:  [4, 5, 2, 9]\n",
      "Square the elements of the said list using map(): [16, 25, 4, 81]\n"
     ]
    }
   ],
   "source": [
    "l = [4, 5, 2, 9]\n",
    "def square_l(n):\n",
    "    return n*n \n",
    "print(\" List: \",l)\n",
    "result = map(square_l,l)\n",
    "print(\"Square the elements of the said list using map():\",list(result))"
   ]
  },
  {
   "cell_type": "code",
   "execution_count": null,
   "id": "bbafbbeb",
   "metadata": {},
   "outputs": [],
   "source": []
  }
 ],
 "metadata": {
  "kernelspec": {
   "display_name": "Python 3 (ipykernel)",
   "language": "python",
   "name": "python3"
  },
  "language_info": {
   "codemirror_mode": {
    "name": "ipython",
    "version": 3
   },
   "file_extension": ".py",
   "mimetype": "text/x-python",
   "name": "python",
   "nbconvert_exporter": "python",
   "pygments_lexer": "ipython3",
   "version": "3.10.2"
  }
 },
 "nbformat": 4,
 "nbformat_minor": 5
}
