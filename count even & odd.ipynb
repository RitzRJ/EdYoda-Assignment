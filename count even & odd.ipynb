{
 "cells": [
  {
   "cell_type": "markdown",
   "id": "bd828c8f",
   "metadata": {},
   "source": [
    "Q.Write a Python program to count the number of even and odd numbers from a series of numbers.\n",
    "\n",
    "\n",
    "\n",
    "Sample numbers : numbers = (1, 2, 3, 4, 5, 6, 7, 8, 9) \n",
    "\n",
    "Expected Output :\n",
    "\n",
    "Number of even numbers : 4\n",
    "\n",
    "Number of odd numbers : 5\n",
    "\n"
   ]
  },
  {
   "cell_type": "code",
   "execution_count": 18,
   "id": "3a88ef14",
   "metadata": {},
   "outputs": [
    {
     "name": "stdout",
     "output_type": "stream",
     "text": [
      "Number of even numbers:  4\n",
      "Numbner of odd numbers:  5\n"
     ]
    }
   ],
   "source": [
    "Numbers = (1,2,3,4,5,6,7,8,9)\n",
    "count_even=0\n",
    "count_odd=0\n",
    "for i in Numbers:\n",
    "    if i%2==0:\n",
    "        count_even+=1\n",
    "    else:\n",
    "        count_odd+=1\n",
    "print(\"Number of even numbers: \",count_even)\n",
    "print(\"Numbner of odd numbers: \",count_odd)\n",
    "        \n"
   ]
  },
  {
   "cell_type": "code",
   "execution_count": null,
   "id": "09ed1b19",
   "metadata": {},
   "outputs": [],
   "source": []
  }
 ],
 "metadata": {
  "kernelspec": {
   "display_name": "Python 3 (ipykernel)",
   "language": "python",
   "name": "python3"
  },
  "language_info": {
   "codemirror_mode": {
    "name": "ipython",
    "version": 3
   },
   "file_extension": ".py",
   "mimetype": "text/x-python",
   "name": "python",
   "nbconvert_exporter": "python",
   "pygments_lexer": "ipython3",
   "version": "3.10.2"
  }
 },
 "nbformat": 4,
 "nbformat_minor": 5
}
