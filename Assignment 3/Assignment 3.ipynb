{
 "cells": [
  {
   "cell_type": "code",
   "execution_count": null,
   "id": "46fe2ce9",
   "metadata": {},
   "outputs": [],
   "source": [
    "(Q.1) Write a Python function to sum all the numbers in a list.\n",
    "\n",
    "\n",
    "\n",
    "Sample List : (8, 2, 3, 0, 7)\n",
    "\n",
    "Expected Output : 20"
   ]
  },
  {
   "cell_type": "code",
   "execution_count": 3,
   "id": "a685b707",
   "metadata": {},
   "outputs": [
    {
     "name": "stdout",
     "output_type": "stream",
     "text": [
      "20\n"
     ]
    }
   ],
   "source": [
    "# program\n",
    "\n",
    "def sum(numbers):\n",
    "    total = 0\n",
    "    for x in numbers:\n",
    "        total += x\n",
    "    return total\n",
    "print(sum((8, 2, 3, 0, 7)))"
   ]
  },
  {
   "cell_type": "code",
   "execution_count": null,
   "id": "b2787e6f",
   "metadata": {},
   "outputs": [],
   "source": [
    "(Q.2) Write a Python program to reverse a string.\n",
    "\n",
    "Sample String : \"1234abcd\"\n",
    "\n",
    "Expected Output : \"dcba4321\""
   ]
  },
  {
   "cell_type": "code",
   "execution_count": 17,
   "id": "3601cbdc",
   "metadata": {},
   "outputs": [
    {
     "name": "stdout",
     "output_type": "stream",
     "text": [
      "dcba4321"
     ]
    }
   ],
   "source": [
    "# program\n",
    "\n",
    "s = (\"1234abcd\")\n",
    "for i in range(len(s)-1,-1,-1):\n",
    "    print(s[i],end= \"\")"
   ]
  },
  {
   "cell_type": "code",
   "execution_count": null,
   "id": "4113d8d0",
   "metadata": {},
   "outputs": [],
   "source": [
    "(Q.3)"
   ]
  }
 ],
 "metadata": {
  "kernelspec": {
   "display_name": "Python 3 (ipykernel)",
   "language": "python",
   "name": "python3"
  },
  "language_info": {
   "codemirror_mode": {
    "name": "ipython",
    "version": 3
   },
   "file_extension": ".py",
   "mimetype": "text/x-python",
   "name": "python",
   "nbconvert_exporter": "python",
   "pygments_lexer": "ipython3",
   "version": "3.10.2"
  }
 },
 "nbformat": 4,
 "nbformat_minor": 5
}
